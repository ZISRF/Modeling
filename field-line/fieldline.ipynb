{
 "cells": [
  {
   "cell_type": "code",
   "execution_count": 32,
   "metadata": {},
   "outputs": [],
   "source": [
    "# Simulation\n",
    "\n",
    "import math\n",
    "import numpy as np\n",
    "\n",
    "\n",
    "k = 9 * 10 ** 9         # N * m^2 / K^2\n",
    "\n",
    "\n",
    "def E(x, x1, q1, x2, q2):\n",
    "    r1 = x - x1\n",
    "    E1 = k * q1 * r1 / math.fabs(r1 ** 3)\n",
    "\n",
    "    r2 = x - x2\n",
    "    E2 = k * q2 * r2 / math.fabs(r2 ** 3)\n",
    "\n",
    "    return E1 + E2\n",
    "\n",
    "\n",
    "def p(x, x1, q1, x2, q2):\n",
    "    r1 = x - x1\n",
    "    p1 = k * q1 / math.fabs(r1)\n",
    "\n",
    "    r2 = x - x2\n",
    "    p2 = k * q2 / math.fabs(r2)\n",
    "\n",
    "    return p1 + p2\n",
    "\n",
    "\n",
    "x1 = 1\n",
    "q1 = 1\n",
    "\n",
    "x2 = 2\n",
    "q2 = 1\n",
    "\n",
    "Xe = []\n",
    "Xp = []\n",
    "Ex = []\n",
    "Px = []\n",
    "\n",
    "y_max = 10 ** 15\n",
    "\n",
    "x = 0\n",
    "dx = 0.01\n",
    "while x < x1 + x2:\n",
    "    if x != x1 and x != x2 and math.fabs(E(x, x1, q1, x2, q2)) < y_max:\n",
    "        Ex.append(E(x, x1, q1, x2, q2))\n",
    "        Xe.append(x)\n",
    "\n",
    "    if x != x1 and x != x2 and math.fabs(p(x, x1, q1, x2, q2)) < y_max:\n",
    "        Px.append((p(x, x1, q1, x2, q2), x))\n",
    "        Xp.append(x)\n",
    "\n",
    "    x += dx\n"
   ]
  },
  {
   "cell_type": "code",
   "execution_count": 33,
   "metadata": {},
   "outputs": [
    {
     "data": {
      "text/plain": [
       "[<matplotlib.lines.Line2D at 0x1c7e1786e90>]"
      ]
     },
     "execution_count": 33,
     "metadata": {},
     "output_type": "execute_result"
    },
    {
     "data": {
      "image/png": "[encoded data removed]",
      "text/plain": [
       "<Figure size 432x288 with 1 Axes>"
      ]
     },
     "metadata": {
      "needs_background": "light"
     },
     "output_type": "display_data"
    }
   ],
   "source": [
    "# Plot Ex(X)\n",
    "\n",
    "import matplotlib.pyplot as plt\n",
    "\n",
    "plt.xlabel(\"X, m\")\n",
    "plt.ylabel(\"Ex, \")\n",
    "plt.plot(Xe, Ex)"
   ]
  },
  {
   "cell_type": "code",
   "execution_count": 34,
   "metadata": {},
   "outputs": [
    {
     "data": {
      "text/plain": [
       "[<matplotlib.lines.Line2D at 0x1c7e1e2e2f0>]"
      ]
     },
     "execution_count": 34,
     "metadata": {},
     "output_type": "execute_result"
    },
    {
     "data": {
      "image/png": "[encoded data removed]",
      "text/plain": [
       "<Figure size 432x288 with 1 Axes>"
      ]
     },
     "metadata": {
      "needs_background": "light"
     },
     "output_type": "display_data"
    }
   ],
   "source": [
    "# Plot Px(X)\n",
    "\n",
    "import matplotlib.pyplot as plt\n",
    "\n",
    "plt.xlabel(\"X, м\")\n",
    "plt.ylabel(\"Px, \")\n",
    "plt.plot(Xp, Px)"
   ]
  }
 ],
 "metadata": {
  "interpreter": {
   "hash": "0d595c6a5cdfadb33bcf4b1fa680658753a6b7f50f3888dc486c460e8f2e4cec"
  },
  "kernelspec": {
   "display_name": "Python 3.10.4 64-bit (windows store)",
   "language": "python",
   "name": "python3"
  },
  "language_info": {
   "codemirror_mode": {
    "name": "ipython",
    "version": 3
   },
   "file_extension": ".py",
   "mimetype": "text/x-python",
   "name": "python",
   "nbconvert_exporter": "python",
   "pygments_lexer": "ipython3",
   "version": "3.10.5"
  },
  "orig_nbformat": 4
 },
 "nbformat": 4,
 "nbformat_minor": 2
}
