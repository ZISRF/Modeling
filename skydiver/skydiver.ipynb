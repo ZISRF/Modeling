{
 "cells": [
  {
   "cell_type": "code",
   "execution_count": 174,
   "metadata": {},
   "outputs": [],
   "source": [
    "h_0 = 3000                      # m\n",
    "v_0 = 100                       # m / s\n",
    "h_parachute_opening = 1000      # m\n",
    "\n",
    "m = 80                          # kg\n",
    "g = 9.81                        # m / s^2\n",
    "\n",
    "density_air = 1.2754            # kg / m^3\n",
    "density_human = 1000            # kg / m^3\n",
    "\n",
    "k_parachute = 30\n",
    "k_human = 10\n",
    "\n",
    "dt = 0.1                        #s"
   ]
  },
  {
   "cell_type": "code",
   "execution_count": 175,
   "metadata": {},
   "outputs": [
    {
     "name": "stdout",
     "output_type": "stream",
     "text": [
      "66.5000000000005\n"
     ]
    }
   ],
   "source": [
    "import math\n",
    "\n",
    "T = []\n",
    "X = []\n",
    "Y = []\n",
    "Vx = []\n",
    "Vy = []\n",
    "Ax = []\n",
    "Ay = []\n",
    "\n",
    "t = 0\n",
    "\n",
    "x = 0\n",
    "y = h_0\n",
    "\n",
    "v_x = v_0\n",
    "v_y = 0\n",
    "\n",
    "while (y > 0):\n",
    "    t += dt\n",
    "    T.append(t)\n",
    "\n",
    "    a_x = -k_human * v_x / m\n",
    "    if y > h_parachute_opening:\n",
    "        a_y = -k_human * v_y / m + g * (density_air / density_human - 1)\n",
    "    else:\n",
    "        a_y = -k_parachute * v_y / m + g * (density_air / density_human - 1)\n",
    "    Ax.append(a_x)\n",
    "    Ay.append(-a_y)\n",
    "\n",
    "    x += v_x * dt + a_x * dt * dt / 2\n",
    "    y += v_y * dt + a_y * dt * dt / 2\n",
    "    X.append(x)\n",
    "    Y.append(y)\n",
    "\n",
    "    v_x += a_x * dt\n",
    "    v_y += a_y * dt\n",
    "    Vx.append(v_x)\n",
    "    Vy.append(-v_y)\n",
    "\n",
    "print(t)\n"
   ]
  },
  {
   "cell_type": "code",
   "execution_count": 176,
   "metadata": {},
   "outputs": [
    {
     "data": {
      "text/plain": [
       "[<matplotlib.lines.Line2D at 0x2bdc6637a60>]"
      ]
     },
     "execution_count": 176,
     "metadata": {},
     "output_type": "execute_result"
    },
    {
     "data": {
      "image/png": "[encoded data removed]",
      "text/plain": [
       "<Figure size 432x288 with 1 Axes>"
      ]
     },
     "metadata": {
      "needs_background": "light"
     },
     "output_type": "display_data"
    }
   ],
   "source": [
    "import matplotlib.pyplot as plt\n",
    "\n",
    "plt.plot(T, Vx)\n",
    "plt.plot(T, Vy)"
   ]
  },
  {
   "cell_type": "code",
   "execution_count": 177,
   "metadata": {},
   "outputs": [
    {
     "data": {
      "text/plain": [
       "[<matplotlib.lines.Line2D at 0x2bdc66c02e0>]"
      ]
     },
     "execution_count": 177,
     "metadata": {},
     "output_type": "execute_result"
    },
    {
     "data": {
      "image/png": "[encoded data removed]",
      "text/plain": [
       "<Figure size 432x288 with 1 Axes>"
      ]
     },
     "metadata": {
      "needs_background": "light"
     },
     "output_type": "display_data"
    }
   ],
   "source": [
    "import matplotlib.pyplot as plt\n",
    "\n",
    "plt.plot(T, Ax)\n",
    "plt.plot(T, Ay)"
   ]
  },
  {
   "cell_type": "code",
   "execution_count": 178,
   "metadata": {},
   "outputs": [
    {
     "data": {
      "text/plain": [
       "[<matplotlib.lines.Line2D at 0x2bdc66ffbb0>]"
      ]
     },
     "execution_count": 178,
     "metadata": {},
     "output_type": "execute_result"
    },
    {
     "data": {
      "image/png": "[encoded data removed]",
      "text/plain": [
       "<Figure size 432x288 with 1 Axes>"
      ]
     },
     "metadata": {
      "needs_background": "light"
     },
     "output_type": "display_data"
    }
   ],
   "source": [
    "import matplotlib.pyplot as plt\n",
    "\n",
    "plt.plot(X, Y)"
   ]
  }
 ],
 "metadata": {
  "interpreter": {
   "hash": "0d595c6a5cdfadb33bcf4b1fa680658753a6b7f50f3888dc486c460e8f2e4cec"
  },
  "kernelspec": {
   "display_name": "Python 3.10.4 64-bit (windows store)",
   "language": "python",
   "name": "python3"
  },
  "language_info": {
   "codemirror_mode": {
    "name": "ipython",
    "version": 3
   },
   "file_extension": ".py",
   "mimetype": "text/x-python",
   "name": "python",
   "nbconvert_exporter": "python",
   "pygments_lexer": "ipython3",
   "version": "3.10.4"
  },
  "orig_nbformat": 4
 },
 "nbformat": 4,
 "nbformat_minor": 2
}
