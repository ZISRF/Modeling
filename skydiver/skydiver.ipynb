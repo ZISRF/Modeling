{
 "cells": [
  {
   "cell_type": "code",
   "execution_count": 163,
   "metadata": {},
   "outputs": [],
   "source": [
    "h_0 = 3000                      # m\n",
    "v_0 = 100                       # m / s\n",
    "h_parachute_opening = 1000      # m\n",
    "\n",
    "m = 80                          # kg\n",
    "g = 9.81                        # m / s^2\n",
    "\n",
    "density_air = 1.2754            # kg / m^3\n",
    "density_human = 1000            # kg / m^3\n",
    "\n",
    "k_parachute = 30\n",
    "k_human = 10\n",
    "\n",
    "dt = 0.1                        #s"
   ]
  },
  {
   "cell_type": "code",
   "execution_count": 164,
   "metadata": {},
   "outputs": [
    {
     "ename": "NameError",
     "evalue": "name '_y' is not defined",
     "output_type": "error",
     "traceback": [
      "\u001b[1;31m---------------------------------------------------------------------------\u001b[0m",
      "\u001b[1;31mNameError\u001b[0m                                 Traceback (most recent call last)",
      "\u001b[1;32md:\\MyRepos\\Modeling\\skydiver\\skydiver.ipynb Cell 2'\u001b[0m in \u001b[0;36m<cell line: 19>\u001b[1;34m()\u001b[0m\n\u001b[0;32m     <a href='vscode-notebook-cell:/d%3A/MyRepos/Modeling/skydiver/skydiver.ipynb#ch0000001?line=36'>37</a>\u001b[0m     v_y \u001b[39m+\u001b[39m\u001b[39m=\u001b[39m a_y \u001b[39m*\u001b[39m dt\n\u001b[0;32m     <a href='vscode-notebook-cell:/d%3A/MyRepos/Modeling/skydiver/skydiver.ipynb#ch0000001?line=37'>38</a>\u001b[0m     Vx\u001b[39m.\u001b[39mappend(v_x)\n\u001b[1;32m---> <a href='vscode-notebook-cell:/d%3A/MyRepos/Modeling/skydiver/skydiver.ipynb#ch0000001?line=38'>39</a>\u001b[0m     Vy\u001b[39m.\u001b[39mappend(\u001b[39m-\u001b[39m_y)\n\u001b[0;32m     <a href='vscode-notebook-cell:/d%3A/MyRepos/Modeling/skydiver/skydiver.ipynb#ch0000001?line=40'>41</a>\u001b[0m \u001b[39mprint\u001b[39m(t)\n",
      "\u001b[1;31mNameError\u001b[0m: name '_y' is not defined"
     ]
    }
   ],
   "source": [
    "import math\n",
    "\n",
    "T = []\n",
    "X = []\n",
    "Y = []\n",
    "Vx = []\n",
    "Vy = []\n",
    "Ax = []\n",
    "Ay = []\n",
    "\n",
    "t = 0\n",
    "\n",
    "x = 0\n",
    "y = h_0\n",
    "\n",
    "v_x = v_0 * 0\n",
    "v_y = 0\n",
    "\n",
    "while (y > 0):\n",
    "    t += dt\n",
    "    T.append(t)\n",
    "\n",
    "    a_x = -k_human * v_x / m\n",
    "    if y > h_parachute_opening:\n",
    "        a_y = -k_human * v_y / m + g * (density_air / density_human - 1)\n",
    "    else:\n",
    "        a_y = -k_parachute * v_y / m + g * (density_air / density_human - 1)\n",
    "    Ax.append(a_y)\n",
    "    Ay.append(-a_y)\n",
    "\n",
    "    x += v_x * dt + a_x * dt * dt / 2\n",
    "    y += v_y * dt + a_y * dt * dt / 2\n",
    "    X.append(x)\n",
    "    Y.append(y)\n",
    "\n",
    "    v_x += a_x * dt\n",
    "    v_y += a_y * dt\n",
    "    Vx.append(v_x)\n",
    "    Vy.append(-v_y)\n",
    "\n",
    "print(t)\n"
   ]
  },
  {
   "cell_type": "code",
   "execution_count": null,
   "metadata": {},
   "outputs": [
    {
     "data": {
      "text/plain": [
       "[<matplotlib.lines.Line2D at 0x2bdc5a8d450>]"
      ]
     },
     "execution_count": 161,
     "metadata": {},
     "output_type": "execute_result"
    },
    {
     "data": {
      "image/png": "[encoded data removed]",
      "text/plain": [
       "<Figure size 432x288 with 1 Axes>"
      ]
     },
     "metadata": {
      "needs_background": "light"
     },
     "output_type": "display_data"
    }
   ],
   "source": [
    "import matplotlib.pyplot as plt\n",
    "\n",
    "plt.plot(T, Vy)"
   ]
  },
  {
   "cell_type": "code",
   "execution_count": null,
   "metadata": {},
   "outputs": [
    {
     "data": {
      "text/plain": [
       "[<matplotlib.lines.Line2D at 0x2bdc5bc5a20>]"
      ]
     },
     "execution_count": 162,
     "metadata": {},
     "output_type": "execute_result"
    },
    {
     "data": {
      "image/png": "[encoded data removed]",
      "text/plain": [
       "<Figure size 432x288 with 1 Axes>"
      ]
     },
     "metadata": {
      "needs_background": "light"
     },
     "output_type": "display_data"
    }
   ],
   "source": [
    "import matplotlib.pyplot as plt\n",
    "\n",
    "plt.plot(T, Ay)"
   ]
  }
 ],
 "metadata": {
  "interpreter": {
   "hash": "0d595c6a5cdfadb33bcf4b1fa680658753a6b7f50f3888dc486c460e8f2e4cec"
  },
  "kernelspec": {
   "display_name": "Python 3.10.4 64-bit (windows store)",
   "language": "python",
   "name": "python3"
  },
  "language_info": {
   "codemirror_mode": {
    "name": "ipython",
    "version": 3
   },
   "file_extension": ".py",
   "mimetype": "text/x-python",
   "name": "python",
   "nbconvert_exporter": "python",
   "pygments_lexer": "ipython3",
   "version": "3.10.4"
  },
  "orig_nbformat": 4
 },
 "nbformat": 4,
 "nbformat_minor": 2
}
