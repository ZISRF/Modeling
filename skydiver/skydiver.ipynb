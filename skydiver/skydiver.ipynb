{
 "cells": [
  {
   "cell_type": "code",
   "execution_count": 1,
   "metadata": {},
   "outputs": [],
   "source": [
    "h_0 = 3000\n",
    "v_0 = 100\n",
    "h_parachute_opening = 500\n",
    "\n",
    "m = 80\n",
    "g = 9.81\n",
    "\n",
    "k_parachute = -1\n",
    "k_human = -1\n",
    "\n",
    "density_air = -1\n",
    "density_human = -1\n",
    "\n",
    "dt = 1"
   ]
  },
  {
   "cell_type": "code",
   "execution_count": 2,
   "metadata": {},
   "outputs": [
    {
     "ename": "KeyboardInterrupt",
     "evalue": "",
     "output_type": "error",
     "traceback": [
      "\u001b[1;31m---------------------------------------------------------------------------\u001b[0m",
      "\u001b[1;31mKeyboardInterrupt\u001b[0m                         Traceback (most recent call last)",
      "\u001b[1;32md:\\MyRepos\\Modeling\\skydiver\\skydiver.ipynb Cell 2'\u001b[0m in \u001b[0;36m<cell line: 13>\u001b[1;34m()\u001b[0m\n\u001b[0;32m     <a href='vscode-notebook-cell:/d%3A/MyRepos/Modeling/skydiver/skydiver.ipynb#ch0000001?line=9'>10</a>\u001b[0m v_x \u001b[39m=\u001b[39m v_0\n\u001b[0;32m     <a href='vscode-notebook-cell:/d%3A/MyRepos/Modeling/skydiver/skydiver.ipynb#ch0000001?line=10'>11</a>\u001b[0m v_y \u001b[39m=\u001b[39m \u001b[39m0\u001b[39m\n\u001b[1;32m---> <a href='vscode-notebook-cell:/d%3A/MyRepos/Modeling/skydiver/skydiver.ipynb#ch0000001?line=12'>13</a>\u001b[0m \u001b[39mwhile\u001b[39;00m (y \u001b[39m>\u001b[39;49m h_parachute_opening):\n\u001b[0;32m     <a href='vscode-notebook-cell:/d%3A/MyRepos/Modeling/skydiver/skydiver.ipynb#ch0000001?line=13'>14</a>\u001b[0m     a_x \u001b[39m=\u001b[39m k_human \u001b[39m*\u001b[39m v_x \u001b[39m/\u001b[39m m\n\u001b[0;32m     <a href='vscode-notebook-cell:/d%3A/MyRepos/Modeling/skydiver/skydiver.ipynb#ch0000001?line=14'>15</a>\u001b[0m     a_y \u001b[39m=\u001b[39m g \u001b[39m*\u001b[39m (density_air \u001b[39m/\u001b[39m density_human \u001b[39m-\u001b[39m \u001b[39m1\u001b[39m) \u001b[39m+\u001b[39m k_human \u001b[39m*\u001b[39m v_y \u001b[39m/\u001b[39m m\n",
      "\u001b[1;31mKeyboardInterrupt\u001b[0m: "
     ]
    }
   ],
   "source": [
    "import matplotlib.pyplot as plt\n",
    "import numpy as np\n",
    "import math\n",
    "\n",
    "t = 0\n",
    "\n",
    "y = h_0\n",
    "x = 0\n",
    "\n",
    "v_x = v_0\n",
    "v_y = 0\n",
    "\n",
    "while (y > h_parachute_opening):\n",
    "    t += dt\n",
    "\n",
    "while (y > 0):\n",
    "    t += dt\n"
   ]
  }
 ],
 "metadata": {
  "interpreter": {
   "hash": "0d595c6a5cdfadb33bcf4b1fa680658753a6b7f50f3888dc486c460e8f2e4cec"
  },
  "kernelspec": {
   "display_name": "Python 3.10.4 64-bit (windows store)",
   "language": "python",
   "name": "python3"
  },
  "language_info": {
   "codemirror_mode": {
    "name": "ipython",
    "version": 3
   },
   "file_extension": ".py",
   "mimetype": "text/x-python",
   "name": "python",
   "nbconvert_exporter": "python",
   "pygments_lexer": "ipython3",
   "version": "3.10.4"
  },
  "orig_nbformat": 4
 },
 "nbformat": 4,
 "nbformat_minor": 2
}
